{
 "cells": [
  {
   "cell_type": "markdown",
   "id": "2dc5cb46-8bef-4d52-a85e-480131bf4eef",
   "metadata": {},
   "source": [
    "1) 123 rəqəmini string/character ə çevirin və tipini yoxlayın."
   ]
  },
  {
   "cell_type": "code",
   "execution_count": 2,
   "id": "b581a355-05aa-44cd-9fc8-65127977d2e2",
   "metadata": {
    "scrolled": true
   },
   "outputs": [
    {
     "name": "stdout",
     "output_type": "stream",
     "text": [
      "123\n",
      "<class 'str'>\n"
     ]
    }
   ],
   "source": [
    "s = str(123)\n",
    "\n",
    "print(s)           \n",
    "print(type(s))     "
   ]
  },
  {
   "cell_type": "markdown",
   "id": "982fe14c-4eae-427e-adfc-98bc658a2396",
   "metadata": {},
   "source": [
    "2) 19.99 dəyərini tam ədədə çevirin və nəticəni çap edin."
   ]
  },
  {
   "cell_type": "code",
   "execution_count": 6,
   "id": "196ce3b8-3e4a-4887-90f8-7cfca7d01b2b",
   "metadata": {},
   "outputs": [
    {
     "name": "stdout",
     "output_type": "stream",
     "text": [
      "19\n"
     ]
    }
   ],
   "source": [
    "s = int(19.99)\n",
    "print(s)"
   ]
  },
  {
   "cell_type": "raw",
   "id": "27db1f6b-3980-4fdf-8b3d-4cdaf6619dcb",
   "metadata": {},
   "source": [
    "3) \"500\" dəyərini numericə çevirin və 2-yə bölüb nəticəni çap edin."
   ]
  },
  {
   "cell_type": "code",
   "execution_count": 8,
   "id": "0418d561-06e0-4216-846d-ba6a57a40b00",
   "metadata": {},
   "outputs": [
    {
     "name": "stdout",
     "output_type": "stream",
     "text": [
      "250.0\n"
     ]
    }
   ],
   "source": [
    "str = \"500\"\n",
    "a = int(str)\n",
    "\n",
    "print(a/2)"
   ]
  },
  {
   "cell_type": "raw",
   "id": "7340957a-08c2-4c96-b1e4-546e017788ae",
   "metadata": {},
   "source": [
    "4) a = 8 və b = 12 yaradın. a < b və a == b şərtlərini yoxlayın, nəticələri çap edin."
   ]
  },
  {
   "cell_type": "code",
   "execution_count": 10,
   "id": "68bc315c-11d0-4137-836e-7483791bf30e",
   "metadata": {},
   "outputs": [
    {
     "name": "stdout",
     "output_type": "stream",
     "text": [
      "True\n",
      "False\n"
     ]
    }
   ],
   "source": [
    "a = 8\n",
    "b = 12\n",
    "\n",
    "print(a<b)\n",
    "print(a==b)"
   ]
  },
  {
   "cell_type": "raw",
   "id": "2ed2c302-aa76-42eb-8da9-ba1903d9adce",
   "metadata": {},
   "source": [
    "5) x = 5, y = 10, z = 15 yaradın. (x < y) and (y < z) şərtini yoxlayın və nəticəni çap edin."
   ]
  },
  {
   "cell_type": "code",
   "execution_count": 12,
   "id": "581d7f5d-341c-4f38-9483-ba5b01262f83",
   "metadata": {},
   "outputs": [
    {
     "name": "stdout",
     "output_type": "stream",
     "text": [
      "True\n"
     ]
    }
   ],
   "source": [
    "x = 5\n",
    "y = 10\n",
    "z = 15\n",
    "\n",
    "print(x<y and y<z)"
   ]
  },
  {
   "cell_type": "raw",
   "id": "45e744a5-1484-4c17-89f6-4cfbb491219c",
   "metadata": {},
   "source": [
    "6) 25-i 4-ə bölün. Tam bölmə, qalıq və adi bölmə nəticələrini çap edin."
   ]
  },
  {
   "cell_type": "code",
   "execution_count": 18,
   "id": "18821b21-c422-4068-823d-afd740c6c03f",
   "metadata": {},
   "outputs": [
    {
     "name": "stdout",
     "output_type": "stream",
     "text": [
      "Tam bolme:  6\n",
      "Qaliq:  1\n",
      "Adi bolme:  6.25\n"
     ]
    }
   ],
   "source": [
    "print(\"Tam bolme: \", 25//4)\n",
    "print(\"Qaliq: \", 25%4)\n",
    "print(\"Adi bolme: \", 25/4)"
   ]
  },
  {
   "cell_type": "raw",
   "id": "511c4eab-125e-41ac-a3c9-13041d38907b",
   "metadata": {},
   "source": [
    "7) 3-ü 4-cü dərəcəyə qaldırın və nəticəni çap edin."
   ]
  },
  {
   "cell_type": "code",
   "execution_count": 20,
   "id": "79102c47-802d-45c0-bbb5-64eb87e22cc3",
   "metadata": {},
   "outputs": [
    {
     "name": "stdout",
     "output_type": "stream",
     "text": [
      "81\n"
     ]
    }
   ],
   "source": [
    "print(pow(3,4))"
   ]
  },
  {
   "cell_type": "raw",
   "id": "8c884ac9-2a05-4098-b1b6-38bb141070b3",
   "metadata": {},
   "source": [
    "8) qiymet = 75.5 yaradın. Onu tam ədədə çevirin və tipini yoxlayın."
   ]
  },
  {
   "cell_type": "code",
   "execution_count": 22,
   "id": "052a02b4-c983-4dd4-83b8-8d2d86e0ebc5",
   "metadata": {},
   "outputs": [
    {
     "name": "stdout",
     "output_type": "stream",
     "text": [
      "75\n",
      "<class 'int'>\n"
     ]
    }
   ],
   "source": [
    "qiymet = 75.5\n",
    "tam_qiymet = int(qiymet)\n",
    "\n",
    "print(tam_qiymet)\n",
    "print(type(tam_qiymet))"
   ]
  },
  {
   "cell_type": "raw",
   "id": "5e8eeaa1-b46a-4615-b97e-6bc564dd95b8",
   "metadata": {},
   "source": [
    "9) n = 20 yaradın. (n > 10) or (n < 5) və (n > 15) and (n < 25) şərtlərini yoxlayın, nəticələri çap edin."
   ]
  },
  {
   "cell_type": "code",
   "execution_count": 24,
   "id": "ab71f627-1403-4eb6-90d8-8b1017d43ce5",
   "metadata": {},
   "outputs": [
    {
     "name": "stdout",
     "output_type": "stream",
     "text": [
      "True\n",
      "False\n"
     ]
    }
   ],
   "source": [
    "n = 20\n",
    "\n",
    "print((n>10) or (n<5))\n",
    "print((n>15) and (n<5))"
   ]
  },
  {
   "cell_type": "raw",
   "id": "27ad4d36-b6d4-4a1c-a59e-0d17a96e9e4e",
   "metadata": {},
   "source": [
    "10) \"42.8\" dəyərini əvvəl float-a, sonra tam ədədə çevirin və hər addımda tipi yoxlayın."
   ]
  },
  {
   "cell_type": "code",
   "execution_count": 28,
   "id": "5d9369de-e3c2-4ef2-a6c3-5b6e657784ee",
   "metadata": {},
   "outputs": [
    {
     "name": "stdout",
     "output_type": "stream",
     "text": [
      "<class 'float'>\n",
      "<class 'int'>\n"
     ]
    }
   ],
   "source": [
    "a = 42.8\n",
    "\n",
    "f_a = float(a)\n",
    "print(type(f_a))\n",
    "\n",
    "int_a = int(f_a)\n",
    "print(type(int_a))"
   ]
  }
 ],
 "metadata": {
  "kernelspec": {
   "display_name": "Python 3 (ipykernel)",
   "language": "python",
   "name": "python3"
  },
  "language_info": {
   "codemirror_mode": {
    "name": "ipython",
    "version": 3
   },
   "file_extension": ".py",
   "mimetype": "text/x-python",
   "name": "python",
   "nbconvert_exporter": "python",
   "pygments_lexer": "ipython3",
   "version": "3.12.7"
  }
 },
 "nbformat": 4,
 "nbformat_minor": 5
}
