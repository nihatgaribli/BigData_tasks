{
 "cells": [
  {
   "cell_type": "markdown",
   "id": "6809364f-f516-4297-bd0c-c6586d13b1e6",
   "metadata": {},
   "source": [
    "Sprint_1b task"
   ]
  },
  {
   "cell_type": "raw",
   "id": "e0c6fb2e-e431-4983-ad28-d4cf7451b9a6",
   "metadata": {},
   "source": [
    "1) s = \"Programming\" yaradın. Uzunluğunu və ilk simvolunu çap edin."
   ]
  },
  {
   "cell_type": "code",
   "execution_count": 1,
   "id": "dfa12c04-3510-461d-9dc0-6583096e8c02",
   "metadata": {},
   "outputs": [
    {
     "name": "stdout",
     "output_type": "stream",
     "text": [
      "11\n",
      "P\n"
     ]
    }
   ],
   "source": [
    "s = \"Programming\"\n",
    "\n",
    "print(len(s))\n",
    "print(s[0])"
   ]
  },
  {
   "cell_type": "raw",
   "id": "3404c8bd-3dfe-4edd-9bf0-ee771a93b662",
   "metadata": {},
   "source": [
    "2) s1 = \"Hello\" və s2 = \"World\" yaradın. Onları boşluqla birləşdirin və nəticəni çap edin."
   ]
  },
  {
   "cell_type": "code",
   "execution_count": 5,
   "id": "21c03588-1df8-414e-a5bc-ae38b0bab7ff",
   "metadata": {},
   "outputs": [
    {
     "name": "stdout",
     "output_type": "stream",
     "text": [
      "Hello World\n"
     ]
    }
   ],
   "source": [
    "s1 = \"Hello\"\n",
    "s2 = \"World\"\n",
    "\n",
    "str = s1+\" \"+s2\n",
    "\n",
    "print(str)"
   ]
  },
  {
   "cell_type": "raw",
   "id": "bb1185de-66bd-4291-bfda-8e4526b30337",
   "metadata": {},
   "source": [
    "3) text = \"Python\" yaradın. Son simvolunu çap edin."
   ]
  },
  {
   "cell_type": "code",
   "execution_count": 7,
   "id": "ad080762-4ef7-4737-b69d-666f6e03e517",
   "metadata": {},
   "outputs": [
    {
     "name": "stdout",
     "output_type": "stream",
     "text": [
      "n\n"
     ]
    }
   ],
   "source": [
    "text = \"Python\"\n",
    "\n",
    "print(text[len(text)-1])"
   ]
  },
  {
   "cell_type": "raw",
   "id": "a9842783-c4f2-47f3-8c7a-09268b4fbeb5",
   "metadata": {},
   "source": [
    "4) s = \"Artificial\" yaradın. \"Art\" hissəsini çıxarın və çap edin."
   ]
  },
  {
   "cell_type": "code",
   "execution_count": 11,
   "id": "e52191b4-6be4-436b-ac25-4aa33912f695",
   "metadata": {},
   "outputs": [
    {
     "name": "stdout",
     "output_type": "stream",
     "text": [
      "Art\n",
      "ificial\n"
     ]
    }
   ],
   "source": [
    "s = \"Artificial\"\n",
    "\n",
    "print(s[0:3])\n",
    "print(s[3:])"
   ]
  },
  {
   "cell_type": "raw",
   "id": "235b28b5-f5de-48b6-9021-3a25970588b7",
   "metadata": {},
   "source": [
    "5) word = \"Code\" yaradın. Tərsinə çevirin və nəticəni çap edin."
   ]
  },
  {
   "cell_type": "code",
   "execution_count": 13,
   "id": "8c5c54e6-56bb-4cb5-b35e-e2108c9d6a95",
   "metadata": {},
   "outputs": [
    {
     "name": "stdout",
     "output_type": "stream",
     "text": [
      "edoC\n"
     ]
    }
   ],
   "source": [
    "word = \"Code\"\n",
    "\n",
    "new_word = word[::-1]\n",
    "\n",
    "print(new_word)"
   ]
  },
  {
   "cell_type": "raw",
   "id": "3820defc-dae1-4b33-871f-c912568ec77b",
   "metadata": {},
   "source": [
    "6) s = \"abcdefgh\" yaradın. Hər ikinci simvolu alın və çap edin."
   ]
  },
  {
   "cell_type": "code",
   "execution_count": 15,
   "id": "d9062428-080b-448c-918b-56a600adc690",
   "metadata": {},
   "outputs": [
    {
     "name": "stdout",
     "output_type": "stream",
     "text": [
      "b\n",
      "d\n",
      "f\n",
      "h\n"
     ]
    }
   ],
   "source": [
    "s = \"abcdefgh\"\n",
    "\n",
    "for i in range(1,len(s),2):\n",
    "    print(s[i])"
   ]
  },
  {
   "cell_type": "raw",
   "id": "75011f3a-622e-4ba5-bae3-b0aa82371f4d",
   "metadata": {},
   "source": [
    "7) text = \"data\" yaradın. Onu bir sətrlik kodla böyük hərflərə və kiçik hərflərə çevirib çap edin."
   ]
  },
  {
   "cell_type": "code",
   "execution_count": 19,
   "id": "42ab1e1b-95a5-43d9-addd-ddffd212027b",
   "metadata": {},
   "outputs": [
    {
     "name": "stdout",
     "output_type": "stream",
     "text": [
      "DATA data\n"
     ]
    }
   ],
   "source": [
    "text = \"data\"\n",
    "\n",
    "print(text.upper(), text.lower())"
   ]
  },
  {
   "cell_type": "raw",
   "id": "c4e86731-99c4-4666-8b60-cb9779c51197",
   "metadata": {},
   "source": [
    "8) s = \"Python-R-Java\" yaradın. \"-\" ilə ayırın (split(\"-\")) və nəticəni çap edin."
   ]
  },
  {
   "cell_type": "code",
   "execution_count": 21,
   "id": "f2dbcc03-2066-4b39-ac63-f92fa59f21be",
   "metadata": {},
   "outputs": [
    {
     "name": "stdout",
     "output_type": "stream",
     "text": [
      "['Python', 'R', 'Java']\n"
     ]
    }
   ],
   "source": [
    "s = \"Python-R-Java\"\n",
    "\n",
    "print(s.split(\"-\"))"
   ]
  },
  {
   "cell_type": "raw",
   "id": "7e2c966c-0069-4211-88de-3a9e8a15693a",
   "metadata": {},
   "source": [
    "9) ad = \"Ayxan\" və yaş = 25 yaradın. f-string ilə \"Ayxan 25 yaşındadır\" çap edin."
   ]
  },
  {
   "cell_type": "code",
   "execution_count": 25,
   "id": "b7af41eb-15a6-44a0-8ab9-4bf943273a0e",
   "metadata": {},
   "outputs": [
    {
     "name": "stdout",
     "output_type": "stream",
     "text": [
      "Ayxan 25 yasindadir\n"
     ]
    }
   ],
   "source": [
    "ad = \"Ayxan\"\n",
    "yas = 25\n",
    "\n",
    "print(f\"{ad} {yas} yasindadir\")"
   ]
  },
  {
   "cell_type": "raw",
   "id": "471eafdc-99f7-4f9b-bc4e-703e4dae7f03",
   "metadata": {},
   "source": [
    "10) s = \"salam-dunya\" yaradın. \"-\"ni boşluqla əvəz edin və nəticəni çap edin."
   ]
  },
  {
   "cell_type": "code",
   "execution_count": null,
   "id": "d156df88-c8f5-45e0-a292-dcdaf0c7475b",
   "metadata": {},
   "outputs": [],
   "source": []
  }
 ],
 "metadata": {
  "kernelspec": {
   "display_name": "Python 3 (ipykernel)",
   "language": "python",
   "name": "python3"
  },
  "language_info": {
   "codemirror_mode": {
    "name": "ipython",
    "version": 3
   },
   "file_extension": ".py",
   "mimetype": "text/x-python",
   "name": "python",
   "nbconvert_exporter": "python",
   "pygments_lexer": "ipython3",
   "version": "3.12.7"
  }
 },
 "nbformat": 4,
 "nbformat_minor": 5
}
