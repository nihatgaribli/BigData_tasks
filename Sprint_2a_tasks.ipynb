{
 "cells": [
  {
   "cell_type": "markdown",
   "id": "b6a7ac75-5089-46cc-8ae5-c525dda5c6c8",
   "metadata": {},
   "source": [
    "Sprint 2a tasks"
   ]
  },
  {
   "cell_type": "raw",
   "id": "21f4d9c1-a6ca-47f8-9e02-36b0c69a3c49",
   "metadata": {},
   "source": [
    "1) 5, 10, 15, 20 rəqəmlərindən ibarət “rəqəmlər” adlı list/vector yaradın"
   ]
  },
  {
   "cell_type": "code",
   "execution_count": 1,
   "id": "6dcb66b2-c482-4a0c-b199-4cb1212b15b5",
   "metadata": {
    "collapsed": true,
    "jupyter": {
     "outputs_hidden": true
    }
   },
   "outputs": [
    {
     "name": "stdout",
     "output_type": "stream",
     "text": [
      "[5, 10, 15, 20]\n"
     ]
    }
   ],
   "source": [
    "rəqəmlər = [5, 10, 15, 20]\n",
    "\n",
    "print(rəqəmlər)"
   ]
  },
  {
   "cell_type": "raw",
   "id": "f23e40b2-0edd-4390-bd2e-8dfd1fd9b16e",
   "metadata": {},
   "source": [
    "2) “rəqəmlər” listinin/vectorunun uzunluğunu tapın"
   ]
  },
  {
   "cell_type": "code",
   "execution_count": 3,
   "id": "2042e28f-3181-4064-8a09-2229bfed332b",
   "metadata": {},
   "outputs": [
    {
     "name": "stdout",
     "output_type": "stream",
     "text": [
      "4\n"
     ]
    }
   ],
   "source": [
    "print(len(rəqəmlər))"
   ]
  },
  {
   "cell_type": "raw",
   "id": "0db42fc1-d43b-41aa-a4b4-3e31493d7e84",
   "metadata": {},
   "source": [
    "3) “rəqəmlər” listinə/vectoruna 25 elementini əlavə edin"
   ]
  },
  {
   "cell_type": "code",
   "execution_count": 7,
   "id": "02fa28d6-e8f9-43c8-9370-d36d23684b80",
   "metadata": {},
   "outputs": [
    {
     "name": "stdout",
     "output_type": "stream",
     "text": [
      "[5, 10, 15, 20, 25]\n"
     ]
    }
   ],
   "source": [
    "rəqəmlər.append(25)\n",
    "\n",
    "print(rəqəmlər)"
   ]
  },
  {
   "cell_type": "raw",
   "id": "28ad2e98-cf21-41f2-8ba3-dd5ba815c613",
   "metadata": {},
   "source": [
    "4) “rəqəmlər” listinin/vectorunun 2-ci indeksinə 12 elementini əlavə edin"
   ]
  },
  {
   "cell_type": "code",
   "execution_count": 11,
   "id": "f53d0301-a95a-468b-8006-033b7623fa94",
   "metadata": {},
   "outputs": [
    {
     "name": "stdout",
     "output_type": "stream",
     "text": [
      "[5, 10, 12, 15, 20, 25]\n"
     ]
    }
   ],
   "source": [
    "rəqəmlər = [5, 10, 15, 20, 25]\n",
    "\n",
    "rəqəmlər.insert(2, 12)\n",
    "\n",
    "print(rəqəmlər)\n"
   ]
  },
  {
   "cell_type": "raw",
   "id": "72071355-d9d7-4374-8389-c558ebcc9389",
   "metadata": {},
   "source": [
    "5) 1, 2, 3 və 4, 5, 6 listlərini/vectorlarını birləşdirin"
   ]
  },
  {
   "cell_type": "code",
   "execution_count": 13,
   "id": "782521ce-c256-43ba-b5ac-2a0b9dbbc42f",
   "metadata": {},
   "outputs": [
    {
     "name": "stdout",
     "output_type": "stream",
     "text": [
      "[1, 2, 3, 4, 5, 6]\n"
     ]
    }
   ],
   "source": [
    "list1 = [1,2,3]\n",
    "list2 = [4,5,6]\n",
    "\n",
    "print(list1+list2)"
   ]
  },
  {
   "cell_type": "raw",
   "id": "3a436f9b-e0f6-4eaf-9a4d-b35b7213f51b",
   "metadata": {},
   "source": [
    "6) “rəqəmlər” listindən/vectorundan 2-ci və 3-cü elementləri seçin"
   ]
  },
  {
   "cell_type": "code",
   "execution_count": 17,
   "id": "06629270-13e7-40b7-9f00-36cc4d8bdf6e",
   "metadata": {},
   "outputs": [
    {
     "name": "stdout",
     "output_type": "stream",
     "text": [
      "10 12\n"
     ]
    }
   ],
   "source": [
    "print(rəqəmlər[1], rəqəmlər[2])"
   ]
  },
  {
   "cell_type": "raw",
   "id": "d4933e4b-3559-46ae-8e96-aa61816f1fef",
   "metadata": {},
   "source": [
    "7) “rəqəmlər” listinin/vectorunun ilk elementini 50 ilə əvəz edin "
   ]
  },
  {
   "cell_type": "code",
   "execution_count": 19,
   "id": "a7369c27-9e04-4319-8224-b5b54935727e",
   "metadata": {},
   "outputs": [
    {
     "name": "stdout",
     "output_type": "stream",
     "text": [
      "[50, 10, 12, 15, 20, 25]\n"
     ]
    }
   ],
   "source": [
    "rəqəmlər[0] = 50\n",
    "print(rəqəmlər)\n"
   ]
  },
  {
   "cell_type": "raw",
   "id": "e24e1a00-921a-4207-83b7-8775854e45a7",
   "metadata": {},
   "source": [
    "8) “rəqəmlər” listində/vectorunda 19 elementinin olub-olmadığını yoxlayın"
   ]
  },
  {
   "cell_type": "code",
   "execution_count": 25,
   "id": "e555acb0-0ccf-449d-8771-9250caa08527",
   "metadata": {},
   "outputs": [
    {
     "name": "stdout",
     "output_type": "stream",
     "text": [
      "19 rəqəmi listdə yoxdur.\n"
     ]
    }
   ],
   "source": [
    "if 19 in rəqəmlər:\n",
    "    print(\"19 rəqəmi listdə mövcuddur.\")\n",
    "else:\n",
    "    print(\"19 rəqəmi listdə yoxdur.\")\n"
   ]
  },
  {
   "cell_type": "raw",
   "id": "f5b548a2-600a-4298-9643-a90a3948c673",
   "metadata": {},
   "source": [
    "9) \"a\", \"b\", \"a\", \"c\" listində/vectorunda \"a\" elementinin neçə dəfə təkrarlandığını tapın"
   ]
  },
  {
   "cell_type": "code",
   "execution_count": 27,
   "id": "6c5bdb35-d9cd-4849-8bc5-86815fff45e9",
   "metadata": {},
   "outputs": [
    {
     "name": "stdout",
     "output_type": "stream",
     "text": [
      "2\n"
     ]
    }
   ],
   "source": [
    "lst = ['a', 'b', 'a', 'c']\n",
    "\n",
    "print(lst.count('a'))"
   ]
  },
  {
   "cell_type": "raw",
   "id": "81da1439-ad63-4f70-88f7-d979bcea5c81",
   "metadata": {},
   "source": [
    "10) \"x\", \"y\", \"x\", \"z\" listindən/vectorundan \"x\" elementlərini silin"
   ]
  },
  {
   "cell_type": "code",
   "execution_count": 49,
   "id": "6867ca7a-fbf9-43eb-b68e-aa9cf9d5e914",
   "metadata": {},
   "outputs": [
    {
     "name": "stdout",
     "output_type": "stream",
     "text": [
      "['y', 'z']\n"
     ]
    }
   ],
   "source": [
    "lst1 = ['x', 'y', 'x', 'z']\n",
    "\n",
    "for i in range(0, lst1.count('x')):\n",
    "    lst1.remove('x')\n",
    "\n",
    "print(lst1)"
   ]
  },
  {
   "cell_type": "raw",
   "id": "bb7423c3-461d-4568-a51f-f1e7a72e0df1",
   "metadata": {},
   "source": [
    "11) 7, 2, 9, 1 listini/vectorunu azalan sırayla sıralayın"
   ]
  },
  {
   "cell_type": "code",
   "execution_count": 55,
   "id": "803eb185-59b5-451e-959d-3a4eaefe21d9",
   "metadata": {},
   "outputs": [
    {
     "name": "stdout",
     "output_type": "stream",
     "text": [
      "[9, 7, 2, 1]\n"
     ]
    }
   ],
   "source": [
    "lst2 = [7, 2, 9, 1]\n",
    "\n",
    "lst2.sort()\n",
    "\n",
    "print(lst2[::-1])"
   ]
  },
  {
   "cell_type": "raw",
   "id": "e6aaa9c8-899b-4400-b9ad-69cc9504d24d",
   "metadata": {},
   "source": [
    "12) “rəqəmlər” listindən/vectorundan 10-dan böyük elementləri seçin"
   ]
  },
  {
   "cell_type": "code",
   "execution_count": 59,
   "id": "e3260daf-3800-4aff-b874-31bcd46fd141",
   "metadata": {},
   "outputs": [
    {
     "name": "stdout",
     "output_type": "stream",
     "text": [
      "[50, 10, 12, 15, 20, 25]\n",
      "5\n"
     ]
    }
   ],
   "source": [
    "count = 0\n",
    "\n",
    "for i in rəqəmlər:\n",
    "    if i > 10:\n",
    "        count += 1\n",
    "\n",
    "print(rəqəmlər)\n",
    "print(count)"
   ]
  }
 ],
 "metadata": {
  "kernelspec": {
   "display_name": "Python 3 (ipykernel)",
   "language": "python",
   "name": "python3"
  },
  "language_info": {
   "codemirror_mode": {
    "name": "ipython",
    "version": 3
   },
   "file_extension": ".py",
   "mimetype": "text/x-python",
   "name": "python",
   "nbconvert_exporter": "python",
   "pygments_lexer": "ipython3",
   "version": "3.12.7"
  }
 },
 "nbformat": 4,
 "nbformat_minor": 5
}
