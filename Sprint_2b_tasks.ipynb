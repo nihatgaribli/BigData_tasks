{
 "cells": [
  {
   "cell_type": "markdown",
   "id": "d9e52c50-9416-4783-b650-ce0212908365",
   "metadata": {},
   "source": [
    "Sprint_2b_task"
   ]
  },
  {
   "cell_type": "code",
   "execution_count": 3,
   "id": "6f532c04-9e2f-432b-94a2-69dee8490bdf",
   "metadata": {},
   "outputs": [],
   "source": [
    "import numpy as np\n",
    "import pandas as pd"
   ]
  },
  {
   "cell_type": "raw",
   "id": "428150bd-2c3b-410f-8431-ec196aadf7bb",
   "metadata": {},
   "source": [
    "1) 10, 20, 30, 40 elementlərindən ibarət s1 adlı series/vector yaradın"
   ]
  },
  {
   "cell_type": "code",
   "execution_count": 5,
   "id": "0a9bc270-04b5-4ff5-80b7-e107c3949505",
   "metadata": {},
   "outputs": [
    {
     "name": "stdout",
     "output_type": "stream",
     "text": [
      "0    10\n",
      "1    20\n",
      "2    30\n",
      "3    40\n",
      "dtype: int64\n"
     ]
    }
   ],
   "source": [
    "a = [10, 20, 30, 40]\n",
    "\n",
    "s1 = pd.Series(a)\n",
    "\n",
    "print(s1)"
   ]
  },
  {
   "cell_type": "raw",
   "id": "05482103-6294-449d-aec2-93a3939a8706",
   "metadata": {},
   "source": [
    "2) s1-ə 'w', 'x', 'y', 'z' indekslərini təyin edin"
   ]
  },
  {
   "cell_type": "code",
   "execution_count": 7,
   "id": "b029d9c3-612c-4117-8c92-24e88207b7a9",
   "metadata": {},
   "outputs": [
    {
     "name": "stdout",
     "output_type": "stream",
     "text": [
      "w    10\n",
      "x    20\n",
      "y    30\n",
      "z    40\n",
      "dtype: int64\n"
     ]
    }
   ],
   "source": [
    "s1.index = ['w', 'x', 'y', 'z']\n",
    "\n",
    "print(s1)"
   ]
  },
  {
   "cell_type": "raw",
   "id": "8279fe1c-9609-4943-b4bd-cd942892f01e",
   "metadata": {},
   "source": [
    "3) Python: {'p': 5, 'q': 10, 'r': 15} dictionary-dən s2 adlı Series yaradın"
   ]
  },
  {
   "cell_type": "code",
   "execution_count": 9,
   "id": "6e9531d0-3762-45e5-b93c-ba79a84cd366",
   "metadata": {},
   "outputs": [
    {
     "name": "stdout",
     "output_type": "stream",
     "text": [
      "p     5\n",
      "q    10\n",
      "r    15\n",
      "dtype: int64\n"
     ]
    }
   ],
   "source": [
    "dict = {'p': 5, 'q': 10, 'r': 15}\n",
    "\n",
    "s2 = pd.Series(dict)\n",
    "\n",
    "print(s2)"
   ]
  },
  {
   "cell_type": "raw",
   "id": "671298d6-42ce-4dcf-9442-07569ed8d636",
   "metadata": {},
   "source": [
    "4) s2-dən 'q' indeksli elementi seçin"
   ]
  },
  {
   "cell_type": "code",
   "execution_count": 15,
   "id": "9be7f684-7ce3-43e3-b24d-55892f2a87ef",
   "metadata": {},
   "outputs": [
    {
     "name": "stdout",
     "output_type": "stream",
     "text": [
      "10\n"
     ]
    }
   ],
   "source": [
    "print(s2['q'])"
   ]
  },
  {
   "cell_type": "raw",
   "id": "654e457b-f2d9-4fbd-8969-5db1ac5811a4",
   "metadata": {},
   "source": [
    "5) s1-dən 25-dən böyük elementləri seçin"
   ]
  },
  {
   "cell_type": "code",
   "execution_count": 18,
   "id": "3b71f1b7-b87f-46a9-8db0-041f65e22509",
   "metadata": {},
   "outputs": [
    {
     "name": "stdout",
     "output_type": "stream",
     "text": [
      "w    10\n",
      "x    20\n",
      "y    30\n",
      "z    40\n",
      "dtype: int64\n",
      "2\n"
     ]
    }
   ],
   "source": [
    "count = 0\n",
    "for i in s1:\n",
    "    if i > 25:\n",
    "        count+=1\n",
    "\n",
    "print(s1)\n",
    "print(count)"
   ]
  },
  {
   "cell_type": "raw",
   "id": "9e3d8c59-5e3f-4f8a-b34b-5a8f60e2a5c6",
   "metadata": {},
   "source": [
    "6) s1-də 20-dən böyük elementləri 10-a bölün "
   ]
  },
  {
   "cell_type": "code",
   "execution_count": 28,
   "id": "e443b35b-6a2c-4177-a36a-d2dfe587efc4",
   "metadata": {},
   "outputs": [
    {
     "name": "stdout",
     "output_type": "stream",
     "text": [
      "w    10\n",
      "x    20\n",
      "y     3\n",
      "z     4\n",
      "dtype: int64\n"
     ]
    }
   ],
   "source": [
    "for i in range(len(s1)):\n",
    "    if s1.iloc[i] > 20:\n",
    "        s1.iloc[i] = s1.iloc[i] / 10\n",
    "\n",
    "print(s1)"
   ]
  },
  {
   "cell_type": "raw",
   "id": "a3fb7293-39b2-4b85-b1e6-1a70e224dad2",
   "metadata": {},
   "source": [
    "7) ((1, 2), (3, 4)) listindən/vectorundan df1 adlı dataframe yaradın"
   ]
  },
  {
   "cell_type": "code",
   "execution_count": 5,
   "id": "6fafd20e-6657-4799-b2ef-52f42e7e6306",
   "metadata": {},
   "outputs": [
    {
     "name": "stdout",
     "output_type": "stream",
     "text": [
      "   0  1\n",
      "0  1  2\n",
      "1  3  4\n"
     ]
    }
   ],
   "source": [
    "data = [(1, 2), (3, 4)]\n",
    "df1 = pd.DataFrame(data)\n",
    "\n",
    "print(df1)"
   ]
  },
  {
   "cell_type": "raw",
   "id": "8c46ecb3-78c3-46bf-9d0a-63b06a1d7b2a",
   "metadata": {},
   "source": [
    "8) df1-ə ('r1', 'r2') sətir və ('c1', 'c2') sütun adlarını təyin edin"
   ]
  },
  {
   "cell_type": "code",
   "execution_count": 9,
   "id": "a8630bf2-1701-4a6b-97fd-f2af303360c9",
   "metadata": {},
   "outputs": [
    {
     "name": "stdout",
     "output_type": "stream",
     "text": [
      "    c1  c2\n",
      "r1   1   2\n",
      "r2   3   4\n"
     ]
    }
   ],
   "source": [
    "df1.index = ['r1', 'r2']\n",
    "df1.columns = ['c1', 'c2']\n",
    "\n",
    "print(df1)"
   ]
  },
  {
   "cell_type": "raw",
   "id": "545dac9a-5315-46b4-96f8-84dbcc025fa5",
   "metadata": {},
   "source": [
    "9) Python: {'A': [1, 2], 'B': [3, 4]} dictionary-dən df2 yaradın"
   ]
  },
  {
   "cell_type": "code",
   "execution_count": 15,
   "id": "d240fd6e-b5ee-412b-b1dd-1f1c2c0cf7c1",
   "metadata": {},
   "outputs": [
    {
     "name": "stdout",
     "output_type": "stream",
     "text": [
      "   A  B\n",
      "0  1  3\n",
      "1  2  4\n"
     ]
    }
   ],
   "source": [
    "d = {'A': [1, 2], 'B': [3, 4]}\n",
    "\n",
    "df2 = pd.DataFrame(d)\n",
    "\n",
    "print(df2)"
   ]
  },
  {
   "cell_type": "raw",
   "id": "dc7e23e1-ba35-4e66-83c1-3d69a912b7c6",
   "metadata": {},
   "source": [
    "10) df2-də 'A' sütunu 1-dən böyük olan sətirləri seçin"
   ]
  },
  {
   "cell_type": "raw",
   "id": "8afc19e6-98b0-4dc2-b27a-54ea356a0ea1",
   "metadata": {},
   "source": [
    "df3 = df2[df2['A'] > 1]\n",
    "print(df3)"
   ]
  },
  {
   "cell_type": "code",
   "execution_count": null,
   "id": "ee78df57-a40b-40ca-aedb-a29187d451eb",
   "metadata": {},
   "outputs": [],
   "source": []
  }
 ],
 "metadata": {
  "kernelspec": {
   "display_name": "Python 3 (ipykernel)",
   "language": "python",
   "name": "python3"
  },
  "language_info": {
   "codemirror_mode": {
    "name": "ipython",
    "version": 3
   },
   "file_extension": ".py",
   "mimetype": "text/x-python",
   "name": "python",
   "nbconvert_exporter": "python",
   "pygments_lexer": "ipython3",
   "version": "3.12.7"
  }
 },
 "nbformat": 4,
 "nbformat_minor": 5
}
