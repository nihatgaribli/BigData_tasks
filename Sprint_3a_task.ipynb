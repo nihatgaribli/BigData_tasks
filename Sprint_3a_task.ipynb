{
 "cells": [
  {
   "cell_type": "markdown",
   "id": "d4679b92",
   "metadata": {},
   "source": [
    "Sprint_3a_task\n"
   ]
  },
  {
   "cell_type": "markdown",
   "id": "7a5a4307",
   "metadata": {},
   "source": [
    "1) x dəyişəni verilmişdir. Əgər x > 0 olarsa \"müsbət\", x < 0 olarsa \"mənfi\", bərabərdirsə \"sıfır\" çap etsin."
   ]
  },
  {
   "cell_type": "code",
   "execution_count": 1,
   "id": "f67e6784",
   "metadata": {},
   "outputs": [
    {
     "name": "stdout",
     "output_type": "stream",
     "text": [
      "müsbət\n"
     ]
    }
   ],
   "source": [
    "x = int(input(\"x-i daxil edin: \"))\n",
    "if x > 0:\n",
    "    print(\"müsbət\")\n",
    "elif x < 0:\n",
    "    print(\"mənfi\")\n",
    "else:\n",
    "    print(\"sıfır\")\n"
   ]
  },
  {
   "cell_type": "markdown",
   "id": "d99d1ba9",
   "metadata": {},
   "source": [
    "2) n rəqəmi cütdürsə \"cüt\", təkdirsə \"tək\" çap etsin."
   ]
  },
  {
   "cell_type": "code",
   "execution_count": 2,
   "id": "85deaec7",
   "metadata": {},
   "outputs": [
    {
     "name": "stdout",
     "output_type": "stream",
     "text": [
      "tək\n"
     ]
    }
   ],
   "source": [
    "n = int(input(\"n-i daxil edin: \"))\n",
    "if n % 2 == 0:\n",
    "    print(\"cüt\")\n",
    "else:\n",
    "    print(\"tək\")\n"
   ]
  },
  {
   "cell_type": "markdown",
   "id": "20d3f060",
   "metadata": {},
   "source": [
    "3) a, b, c rəqəmləri verilmişdir. Ən böyük rəqəmi çap etsin."
   ]
  },
  {
   "cell_type": "code",
   "execution_count": 3,
   "id": "c2893ea1",
   "metadata": {},
   "outputs": [
    {
     "name": "stdout",
     "output_type": "stream",
     "text": [
      "Ən böyük: 4\n"
     ]
    }
   ],
   "source": [
    "a = int(input(\"a: \"))\n",
    "b = int(input(\"b: \"))\n",
    "c = int(input(\"c: \"))\n",
    "print(\"Ən böyük:\", max(a, b, c))\n"
   ]
  },
  {
   "cell_type": "markdown",
   "id": "eb722ca2",
   "metadata": {},
   "source": [
    "4) day dəyişəni 1-7 arası rəqəmdir. Müvafiq həftə gününü (1 = \"Bazar ertəsi\", ..., 7 = \"Bazar\") çap etsin, əks halda \"Yanlış gün\" yazsın."
   ]
  },
  {
   "cell_type": "code",
   "execution_count": 4,
   "id": "a70341c4",
   "metadata": {},
   "outputs": [
    {
     "name": "stdout",
     "output_type": "stream",
     "text": [
      "Çərşənbə\n"
     ]
    }
   ],
   "source": [
    "day = int(input(\"1-7 arası gün nömrəsi daxil edin: \"))\n",
    "days = {\n",
    "    1: \"Bazar ertəsi\",\n",
    "    2: \"Çərşənbə axşamı\",\n",
    "    3: \"Çərşənbə\",\n",
    "    4: \"Cümə axşamı\",\n",
    "    5: \"Cümə\",\n",
    "    6: \"Şənbə\",\n",
    "    7: \"Bazar\"\n",
    "}\n",
    "print(days.get(day, \"Yanlış gün\"))\n"
   ]
  },
  {
   "cell_type": "markdown",
   "id": "e33e6eac",
   "metadata": {},
   "source": [
    "5) temp dəyişəni temperaturdur. Əgər temp < 0 olarsa \"soyuq\", 0-20 arası olarsa \"normal\", 20-dən böyükdürsə \"isti\" çap etsin."
   ]
  },
  {
   "cell_type": "code",
   "execution_count": 5,
   "id": "744046d2",
   "metadata": {},
   "outputs": [
    {
     "name": "stdout",
     "output_type": "stream",
     "text": [
      "isti\n"
     ]
    }
   ],
   "source": [
    "temp = float(input(\"Temperaturu daxil edin: \"))\n",
    "if temp < 0:\n",
    "    print(\"soyuq\")\n",
    "elif 0 <= temp <= 20:\n",
    "    print(\"normal\")\n",
    "else:\n",
    "    print(\"isti\")\n"
   ]
  },
  {
   "cell_type": "markdown",
   "id": "a175e318",
   "metadata": {},
   "source": [
    "6) password adlı string verilmişdir. Əgər uzunluğu 8-dən kiçikdirsə \"qısa\", 8-12 arasıdırsa \"orta\", 12-dən böyükdürsə \"uzun\" çap etsin.\n"
   ]
  },
  {
   "cell_type": "code",
   "execution_count": 6,
   "id": "d57f46b3",
   "metadata": {},
   "outputs": [
    {
     "name": "stdout",
     "output_type": "stream",
     "text": [
      "orta\n"
     ]
    }
   ],
   "source": [
    "password = input(\"Şifrəni daxil edin: \")\n",
    "uzunluq = len(password)\n",
    "if uzunluq < 8:\n",
    "    print(\"qısa\")\n",
    "elif 8 <= uzunluq <= 12:\n",
    "    print(\"orta\")\n",
    "else:\n",
    "    print(\"uzun\")\n"
   ]
  },
  {
   "cell_type": "markdown",
   "id": "0dd83710",
   "metadata": {},
   "source": [
    "7) x rəqəmi həm 3-ə, həm də 5-ə bölünürsə \"3 və 5\", yalnız 3-ə bölünürsə \"3\", yalnız 5-ə bölünürsə \"5\", heç birinə bölünmürsə \"heç biri\" çap etsin."
   ]
  },
  {
   "cell_type": "code",
   "execution_count": 7,
   "id": "d7194064",
   "metadata": {},
   "outputs": [
    {
     "name": "stdout",
     "output_type": "stream",
     "text": [
      "heç biri\n"
     ]
    }
   ],
   "source": [
    "x = int(input(\"x-i daxil edin: \"))\n",
    "if x % 3 == 0 and x % 5 == 0:\n",
    "    print(\"3 və 5\")\n",
    "elif x % 3 == 0:\n",
    "    print(\"3\")\n",
    "elif x % 5 == 0:\n",
    "    print(\"5\")\n",
    "else:\n",
    "    print(\"heç biri\")\n"
   ]
  },
  {
   "cell_type": "markdown",
   "id": "3a32d49a",
   "metadata": {},
   "source": [
    "8) 0-dan 20-yə qədər cüt rəqəmləri çap etsin."
   ]
  },
  {
   "cell_type": "code",
   "execution_count": 11,
   "id": "f9ac50b3",
   "metadata": {},
   "outputs": [
    {
     "name": "stdout",
     "output_type": "stream",
     "text": [
      "2\n",
      "4\n",
      "6\n",
      "8\n",
      "10\n",
      "12\n",
      "14\n",
      "16\n",
      "18\n"
     ]
    }
   ],
   "source": [
    "for i in range(2, 20, 2):\n",
    "    print(i)\n"
   ]
  },
  {
   "cell_type": "markdown",
   "id": "7437fe94",
   "metadata": {},
   "source": [
    "9) \"Bağda ərik var idi …\" stringinin hər elementini for ilə ayrı-ayrılıqda çap edin."
   ]
  },
  {
   "cell_type": "code",
   "execution_count": 12,
   "id": "988a8f3e",
   "metadata": {},
   "outputs": [
    {
     "name": "stdout",
     "output_type": "stream",
     "text": [
      "B\n",
      "a\n",
      "ğ\n",
      "d\n",
      "a\n",
      " \n",
      "ə\n",
      "r\n",
      "i\n",
      "k\n",
      " \n",
      "v\n",
      "a\n",
      "r\n",
      " \n",
      "i\n",
      "d\n",
      "i\n",
      " \n",
      "…\n"
     ]
    }
   ],
   "source": [
    "metn = \"Bağda ərik var idi …\"\n",
    "for herf in metn:\n",
    "    print(herf)\n"
   ]
  },
  {
   "cell_type": "markdown",
   "id": "e8c7c109",
   "metadata": {},
   "source": [
    "10) 1-dən 10-a qədər rəqəmləri çap edin, amma 3 xaric."
   ]
  },
  {
   "cell_type": "code",
   "execution_count": 13,
   "id": "59ea5969",
   "metadata": {},
   "outputs": [
    {
     "name": "stdout",
     "output_type": "stream",
     "text": [
      "1\n",
      "2\n",
      "4\n",
      "5\n",
      "6\n",
      "7\n",
      "8\n",
      "9\n",
      "10\n"
     ]
    }
   ],
   "source": [
    "for i in range(1, 11):\n",
    "    if i == 3:\n",
    "        continue\n",
    "    print(i)\n"
   ]
  },
  {
   "cell_type": "markdown",
   "id": "08b8cd90",
   "metadata": {},
   "source": [
    "11) 1-dən başlayaraq ilk 5-ə bölünən rəqəmi tapın və while ilə çap edin (break istifadə edin)."
   ]
  },
  {
   "cell_type": "code",
   "execution_count": 14,
   "id": "ed92b3b3",
   "metadata": {},
   "outputs": [
    {
     "name": "stdout",
     "output_type": "stream",
     "text": [
      "5\n"
     ]
    }
   ],
   "source": [
    "i = 1\n",
    "while True:\n",
    "    if i % 5 == 0:\n",
    "        print(i)\n",
    "        break\n",
    "    i += 1\n"
   ]
  },
  {
   "cell_type": "markdown",
   "id": "8057d9c6",
   "metadata": {},
   "source": [
    "12) (1, 3, 5, 7, 9) listində/vectorunda 5-i tapın və indeksini çap edin (break istifadə edin)."
   ]
  },
  {
   "cell_type": "code",
   "execution_count": 15,
   "id": "63a8606a",
   "metadata": {},
   "outputs": [
    {
     "name": "stdout",
     "output_type": "stream",
     "text": [
      "İndeks: 2\n"
     ]
    }
   ],
   "source": [
    "nums = (1, 3, 5, 7, 9)\n",
    "for idx, val in enumerate(nums):\n",
    "    if val == 5:\n",
    "        print(\"İndeks:\", idx)\n",
    "        break\n"
   ]
  }
 ],
 "metadata": {
  "kernelspec": {
   "display_name": "Python 3",
   "language": "python",
   "name": "python3"
  },
  "language_info": {
   "codemirror_mode": {
    "name": "ipython",
    "version": 3
   },
   "file_extension": ".py",
   "mimetype": "text/x-python",
   "name": "python",
   "nbconvert_exporter": "python",
   "pygments_lexer": "ipython3",
   "version": "3.13.1"
  }
 },
 "nbformat": 4,
 "nbformat_minor": 5
}
