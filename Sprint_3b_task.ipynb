{
 "cells": [
  {
   "cell_type": "markdown",
   "id": "d4679b92",
   "metadata": {},
   "source": [
    "Sprint_3b_task\n"
   ]
  },
  {
   "cell_type": "markdown",
   "id": "7a5a4307",
   "metadata": {},
   "source": [
    "1) salam adlı funksiya yaradın ki, heç bir arqument almadan sadəcə \"Salam, Dünya!\" çap etsin."
   ]
  },
  {
   "cell_type": "code",
   "execution_count": 2,
   "id": "f67e6784",
   "metadata": {},
   "outputs": [
    {
     "name": "stdout",
     "output_type": "stream",
     "text": [
      "Salam, Dünya!\n"
     ]
    }
   ],
   "source": [
    "def salam():\n",
    "    print(\"Salam, Dünya!\")\n",
    "\n",
    "salam()"
   ]
  },
  {
   "cell_type": "markdown",
   "id": "d99d1ba9",
   "metadata": {},
   "source": [
    "2) kub_hesabla adlı funksiya yaradın ki, bir rəqəm (n) qəbul etsin və onun kubunu qaytarsın."
   ]
  },
  {
   "cell_type": "code",
   "execution_count": 3,
   "id": "85deaec7",
   "metadata": {},
   "outputs": [
    {
     "data": {
      "text/plain": [
       "27"
      ]
     },
     "execution_count": 3,
     "metadata": {},
     "output_type": "execute_result"
    }
   ],
   "source": [
    "def kub_hesabla(n):\n",
    "    return n ** 3\n",
    "\n",
    "\n",
    "kub_hesabla(3)"
   ]
  },
  {
   "cell_type": "markdown",
   "id": "20d3f060",
   "metadata": {},
   "source": [
    "3) birlesdir adlı funksiya yaradın ki, iki söz qəbul etsin və onları boşluqla birləşdirib qaytarsın."
   ]
  },
  {
   "cell_type": "code",
   "execution_count": 4,
   "id": "c2893ea1",
   "metadata": {},
   "outputs": [
    {
     "data": {
      "text/plain": [
       "'Salam Python'"
      ]
     },
     "execution_count": 4,
     "metadata": {},
     "output_type": "execute_result"
    }
   ],
   "source": [
    "def birlesdir(soz1, soz2):\n",
    "    return soz1 + \" \" + soz2\n",
    "\n",
    "birlesdir(\"Salam\", \"Python\")"
   ]
  },
  {
   "cell_type": "markdown",
   "id": "eb722ca2",
   "metadata": {},
   "source": [
    "4) cap_et adlı funksiya yaradın ki, bir listi arqument olaraq alsın və listin hər elementini for ilə çap etsin."
   ]
  },
  {
   "cell_type": "code",
   "execution_count": 5,
   "id": "a70341c4",
   "metadata": {},
   "outputs": [
    {
     "name": "stdout",
     "output_type": "stream",
     "text": [
      "1\n",
      "2\n",
      "3\n",
      "4\n",
      "5\n"
     ]
    }
   ],
   "source": [
    "def cap_et(lst):\n",
    "    for item in lst:\n",
    "        print(item)\n",
    "\n",
    "lst = [1,2,3,4,5]\n",
    "cap_et(lst)"
   ]
  },
  {
   "cell_type": "markdown",
   "id": "e33e6eac",
   "metadata": {},
   "source": [
    "5) toplam adlı funksiya yaradın ki, istənilən sayda rəqəmi (*args) qəbul edib onların cəmini qaytarsın."
   ]
  },
  {
   "cell_type": "code",
   "execution_count": 6,
   "id": "744046d2",
   "metadata": {},
   "outputs": [
    {
     "data": {
      "text/plain": [
       "45"
      ]
     },
     "execution_count": 6,
     "metadata": {},
     "output_type": "execute_result"
    }
   ],
   "source": [
    "def toplam(*args):\n",
    "    return sum(args)\n",
    "\n",
    "toplam(1, 2, 3, 4, 5, 6, 7, 8, 9)"
   ]
  },
  {
   "cell_type": "markdown",
   "id": "a175e318",
   "metadata": {},
   "source": [
    "6) ortalama adlı funksiya yaradın ki, istənilən sayda rəqəmi (*args) qəbul edib onların ortalamasını qaytarsın (əgər heç bir rəqəm yoxdursa, \"Rəqəm yoxdur\" qaytarsın)."
   ]
  },
  {
   "cell_type": "code",
   "execution_count": 7,
   "id": "d57f46b3",
   "metadata": {},
   "outputs": [
    {
     "data": {
      "text/plain": [
       "5.0"
      ]
     },
     "execution_count": 7,
     "metadata": {},
     "output_type": "execute_result"
    }
   ],
   "source": [
    "def ortalama(*args):\n",
    "    if not args:\n",
    "        return \"Rəqəm yoxdur\"\n",
    "    return sum(args) / len(args)\n",
    "\n",
    "ortalama(1, 2, 3, 4, 5, 6, 7, 8, 9)"
   ]
  },
  {
   "cell_type": "markdown",
   "id": "0dd83710",
   "metadata": {},
   "source": [
    "7) adlar_rəqəmlər adlı funksiya yaradın ki, istənilən sayda ad və rəqəm cütünü (**kwargs) qəbul edib hər cütü çap etsin (məsələn, \"ad: bir, rəqəm: 1\")."
   ]
  },
  {
   "cell_type": "code",
   "execution_count": 15,
   "id": "d7194064",
   "metadata": {},
   "outputs": [
    {
     "name": "stdout",
     "output_type": "stream",
     "text": [
      "ad: Messi, rəqəm: 10\n",
      "ad: Barca, rəqəm: 126\n"
     ]
    }
   ],
   "source": [
    "def adlar_rəqəmlər(**kwargs):\n",
    "    for ad, reqem in kwargs.items():\n",
    "        print(f\"ad: {ad}, rəqəm: {reqem}\")\n",
    "\n",
    "adlar_rəqəmlər(Messi = 10, Barca = 126)"
   ]
  },
  {
   "cell_type": "markdown",
   "id": "3a32d49a",
   "metadata": {},
   "source": [
    "8) tip_yoxla adlı funksiya yaradın ki, bir dəyər qəbul edib onun tipini yoxlasın: \"mətn\", \"rəqəm\", \"başqa\" çap etsin."
   ]
  },
  {
   "cell_type": "code",
   "execution_count": 11,
   "id": "f9ac50b3",
   "metadata": {},
   "outputs": [
    {
     "name": "stdout",
     "output_type": "stream",
     "text": [
      "rəqəm\n",
      "mətn\n"
     ]
    }
   ],
   "source": [
    "def tip_yoxla(dəyər):\n",
    "    if isinstance(dəyər, str):\n",
    "        print(\"mətn\")\n",
    "    elif isinstance(dəyər, (int, float)):\n",
    "        print(\"rəqəm\")\n",
    "    else:\n",
    "        print(\"başqa\")\n",
    "\n",
    "\n",
    "tip_yoxla(1)\n",
    "tip_yoxla('A')\n"
   ]
  },
  {
   "cell_type": "markdown",
   "id": "7437fe94",
   "metadata": {},
   "source": [
    "9) yas_kateqoriya adlı funksiya yaradın ki, input()/readline() ilə yaş soruşsun, 18-dən aşağıysa \"Gənc\", yuxarıdrsa \"Yetkin\" çap etsin."
   ]
  },
  {
   "cell_type": "code",
   "execution_count": 12,
   "id": "988a8f3e",
   "metadata": {},
   "outputs": [
    {
     "name": "stdout",
     "output_type": "stream",
     "text": [
      "Yetkin\n"
     ]
    }
   ],
   "source": [
    "def yas_kateqoriya():\n",
    "    try:\n",
    "        yas = int(input(\"Yaşınızı daxil edin: \"))\n",
    "        if yas < 18:\n",
    "            print(\"Gənc\")\n",
    "        else:\n",
    "            print(\"Yetkin\")\n",
    "    except ValueError:\n",
    "        print(\"Düzgün yaş daxil edin.\")\n",
    "\n",
    "\n",
    "yas_kateqoriya()"
   ]
  },
  {
   "cell_type": "markdown",
   "id": "e8c7c109",
   "metadata": {},
   "source": [
    "10) soz_uzunluq adlı funksiya yaradın ki, input()/readline() ilə istifadəçidən söz alsın və onun uzunluğunu çap etsin."
   ]
  },
  {
   "cell_type": "code",
   "execution_count": 14,
   "id": "59ea5969",
   "metadata": {},
   "outputs": [
    {
     "name": "stdout",
     "output_type": "stream",
     "text": [
      "5\n"
     ]
    }
   ],
   "source": [
    "def soz_uzunluq():\n",
    "    soz = input(\"Bir söz daxil edin: \")\n",
    "    print(len(soz))\n",
    "\n",
    "soz_uzunluq()"
   ]
  }
 ],
 "metadata": {
  "kernelspec": {
   "display_name": "Python 3",
   "language": "python",
   "name": "python3"
  },
  "language_info": {
   "codemirror_mode": {
    "name": "ipython",
    "version": 3
   },
   "file_extension": ".py",
   "mimetype": "text/x-python",
   "name": "python",
   "nbconvert_exporter": "python",
   "pygments_lexer": "ipython3",
   "version": "3.13.1"
  }
 },
 "nbformat": 4,
 "nbformat_minor": 5
}
