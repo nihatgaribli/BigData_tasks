{
 "cells": [
  {
   "cell_type": "markdown",
   "id": "d4679b92",
   "metadata": {},
   "source": [
    "Sprint_4a_task\n"
   ]
  },
  {
   "cell_type": "markdown",
   "id": "7a5a4307",
   "metadata": {},
   "source": [
    "1) İstifadəçidən iki rəqəm və bir əməliyyat (toplama, çıxma, vurma, bölmə) daxil etməsini tələb edən funksiya yazın. Mümkün xətaları (ValueError, TypeError və s.) idarə edin və müvafiq mesajlar çıxarın. Sonda da \"Hesablama bitdi\" mesajı çap olunsun."
   ]
  },
  {
   "cell_type": "code",
   "execution_count": 1,
   "id": "f67e6784",
   "metadata": {},
   "outputs": [
    {
     "name": "stdout",
     "output_type": "stream",
     "text": [
      "Nəticə: 68.0\n",
      "Hesablama bitdi.\n"
     ]
    }
   ],
   "source": [
    "def kalkulyator():\n",
    "    try:\n",
    "        a = float(input(\"Birinci rəqəmi daxil edin: \"))\n",
    "        b = float(input(\"İkinci rəqəmi daxil edin: \"))\n",
    "        operation = input(\"Əməliyyatı daxil edin (+, -, *, /): \")\n",
    "\n",
    "        if operation == '+':\n",
    "            print(\"Nəticə:\", a + b)\n",
    "        elif operation == '-':\n",
    "            print(\"Nəticə:\", a - b)\n",
    "        elif operation == '*':\n",
    "            print(\"Nəticə:\", a * b)\n",
    "        elif operation == '/':\n",
    "            if b == 0:\n",
    "                print(\"Sıfıra bölmə xətası!\")\n",
    "            else:\n",
    "                print(\"Nəticə:\", a / b)\n",
    "        else:\n",
    "            print(\"Yanlış əməliyyat simvolu daxil etdiniz!\")\n",
    "\n",
    "    except ValueError:\n",
    "        print(\"Zəhmət olmasa düzgün rəqəm daxil edin!\")\n",
    "    except TypeError:\n",
    "        print(\"Uyğunsuz tipdə məlumat daxil etdiniz!\")\n",
    "    except Exception as e:\n",
    "        print(\"Gözlənilməz xəta baş verdi:\", e)\n",
    "    finally:\n",
    "        print(\"Hesablama bitdi.\")\n",
    "\n",
    "kalkulyator()"
   ]
  },
  {
   "cell_type": "markdown",
   "id": "d99d1ba9",
   "metadata": {},
   "source": [
    "2) 1-dən 50-yə qədər olan rəqəmlərdən yalnız 11ə qalıqsız bölünənlərini list olaraq qaytarın."
   ]
  },
  {
   "cell_type": "code",
   "execution_count": 2,
   "id": "85deaec7",
   "metadata": {},
   "outputs": [
    {
     "name": "stdout",
     "output_type": "stream",
     "text": [
      "[11, 22, 33, 44]\n"
     ]
    }
   ],
   "source": [
    "bolunenler = [i for i in range(1, 51) if i % 11 == 0]\n",
    "print(bolunenler)"
   ]
  },
  {
   "cell_type": "markdown",
   "id": "20d3f060",
   "metadata": {},
   "source": [
    "3) Verilmiş sözlər siyahısından ([\"kitab\", \"qələm\", \"defter\", \"silgi\"]) hər sözün ilk hərfini list olaraq qaytarın."
   ]
  },
  {
   "cell_type": "code",
   "execution_count": 3,
   "id": "c2893ea1",
   "metadata": {},
   "outputs": [
    {
     "name": "stdout",
     "output_type": "stream",
     "text": [
      "['k', 'q', 'd', 's']\n"
     ]
    }
   ],
   "source": [
    "sozler = [\"kitab\", \"qələm\", \"defter\", \"silgi\"]\n",
    "ilk_herfler = [soz[0] for soz in sozler]\n",
    "print(ilk_herfler)"
   ]
  },
  {
   "cell_type": "markdown",
   "id": "eb722ca2",
   "metadata": {},
   "source": [
    "4) Şəhər adları ([\"Bakı\", \"Gəncə\", \"Sumqayıt\"]) və kodları ([12, 22, 18]) siyahılarından {şəhər: kod} dictionary olaraq qaytarın."
   ]
  },
  {
   "cell_type": "code",
   "execution_count": 4,
   "id": "a70341c4",
   "metadata": {},
   "outputs": [
    {
     "name": "stdout",
     "output_type": "stream",
     "text": [
      "{'Bakı': 12, 'Gəncə': 22, 'Sumqayıt': 18}\n"
     ]
    }
   ],
   "source": [
    "seherler = [\"Bakı\", \"Gəncə\", \"Sumqayıt\"]\n",
    "kodlar = [12, 22, 18]\n",
    "seher_kodlari = dict(zip(seherler, kodlar))\n",
    "print(seher_kodlari)"
   ]
  },
  {
   "cell_type": "markdown",
   "id": "e33e6eac",
   "metadata": {},
   "source": [
    "5) Kilometri milə çevirən (mil = km * 0.621371) lambda funksiyası yazın və 5 fərqli dəyər üçün yoxlayın."
   ]
  },
  {
   "cell_type": "code",
   "execution_count": 5,
   "id": "744046d2",
   "metadata": {},
   "outputs": [
    {
     "name": "stdout",
     "output_type": "stream",
     "text": [
      "[0.621371, 3.106855, 6.21371, 26.097582, 62.137100000000004]\n"
     ]
    }
   ],
   "source": [
    "km_to_mil = lambda km: km * 0.621371\n",
    "deyerler = [1, 5, 10, 42, 100]\n",
    "mil_sonuc = list(map(km_to_mil, deyerler))\n",
    "print(mil_sonuc)"
   ]
  },
  {
   "cell_type": "markdown",
   "id": "a175e318",
   "metadata": {},
   "source": [
    "6) [100, 200, 300, 400] qiymətlərinə 18% vergi əlavə etmək üçün map() və lambda istifadə edin."
   ]
  },
  {
   "cell_type": "code",
   "execution_count": 6,
   "id": "d57f46b3",
   "metadata": {},
   "outputs": [
    {
     "name": "stdout",
     "output_type": "stream",
     "text": [
      "[118.0, 236.0, 354.0, 472.0]\n"
     ]
    }
   ],
   "source": [
    "qiymetler = [100, 200, 300, 400]\n",
    "vergi_qiymetler = list(map(lambda x: x * 1.18, qiymetler))\n",
    "print(vergi_qiymetler)"
   ]
  },
  {
   "cell_type": "markdown",
   "id": "0dd83710",
   "metadata": {},
   "source": [
    "7) [3, 7, 12] və [2, 4, 6] siyahılarının elementlərini ikiqat artırmaq və sonra cəmləmək üçün map() istifadə edin."
   ]
  },
  {
   "cell_type": "code",
   "execution_count": 7,
   "id": "d7194064",
   "metadata": {},
   "outputs": [
    {
     "name": "stdout",
     "output_type": "stream",
     "text": [
      "[10, 22, 36]\n"
     ]
    }
   ],
   "source": [
    "a = [3, 7, 12]\n",
    "b = [2, 4, 6]\n",
    "netice = list(map(lambda x, y: 2*x + 2*y, a, b))\n",
    "print(netice)"
   ]
  },
  {
   "cell_type": "markdown",
   "id": "3a32d49a",
   "metadata": {},
   "source": [
    "8) [150, 80, 220, 45] siyahısından ən kiçik qiyməti reduce() ilə tapın."
   ]
  },
  {
   "cell_type": "code",
   "execution_count": 8,
   "id": "f9ac50b3",
   "metadata": {},
   "outputs": [
    {
     "name": "stdout",
     "output_type": "stream",
     "text": [
      "45\n"
     ]
    }
   ],
   "source": [
    "from functools import reduce\n",
    "\n",
    "qiymetler = [150, 80, 220, 45]\n",
    "minimum = reduce(lambda x, y: x if x < y else y, qiymetler)\n",
    "print(minimum)"
   ]
  }
 ],
 "metadata": {
  "kernelspec": {
   "display_name": "Python 3",
   "language": "python",
   "name": "python3"
  },
  "language_info": {
   "codemirror_mode": {
    "name": "ipython",
    "version": 3
   },
   "file_extension": ".py",
   "mimetype": "text/x-python",
   "name": "python",
   "nbconvert_exporter": "python",
   "pygments_lexer": "ipython3",
   "version": "3.13.1"
  }
 },
 "nbformat": 4,
 "nbformat_minor": 5
}
